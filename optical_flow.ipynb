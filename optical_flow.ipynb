{
 "cells": [
  {
   "cell_type": "code",
   "execution_count": null,
   "id": "e206cfe8",
   "metadata": {
    "scrolled": false
   },
   "outputs": [
    {
     "name": "stdout",
     "output_type": "stream",
     "text": [
      "640.0\n",
      "480.0\n"
     ]
    }
   ],
   "source": [
    "import cv2\n",
    "import numpy as np\n",
    "\n",
    "cap = cv2.VideoCapture(0)\n",
    "print(cap.get(cv2.CAP_PROP_FRAME_WIDTH))\n",
    "print(cap.get(cv2.CAP_PROP_FRAME_HEIGHT))\n",
    "\n",
    "#Create old frame\n",
    "_,frame = cap.read()\n",
    "old_gray = cv2.cvtColor(frame,cv2.COLOR_BGR2GRAY)\n",
    "\n",
    "#Lucas Kanade params\n",
    "lk_params = dict(winSize = (25,25),#search\n",
    "                maxLevel = 2,\n",
    "                criteria = (cv2.TERM_CRITERIA_EPS | cv2.TERM_CRITERIA_COUNT, 10, 0.03))\n",
    "\n",
    "#mouse function\n",
    "def select_point(event, x, y, flags, params):\n",
    "    global point, point_selected, old_points\n",
    "    if event == cv2.EVENT_LBUTTONDOWN:\n",
    "        point = (x, y)\n",
    "        point_selected = True\n",
    "        old_points = np.array([[x,y]], dtype=np.float32)\n",
    "\n",
    "cv2.namedWindow(\"Frame\", cv2.WINDOW_NORMAL)\n",
    "cv2.setMouseCallback(\"Frame\",select_point)\n",
    "point_selected = False\n",
    "point = ()\n",
    "#old_points = np.array([[]])\n",
    "#old_points =np.array([[[312.,220.]],[[400.,220.]],[[461.,220.]]],dtype=np.float32)\n",
    "old_points =np.array([[[200.,220.]]],dtype=np.float32)\n",
    "count = 0\n",
    "\n",
    "while True:\n",
    "    ret, frame = cap.read()\n",
    "    \n",
    "    if not ret:\n",
    "        break\n",
    "\n",
    "    if count < 50:\n",
    "        mask = np.zeros_like(frame)\n",
    "    \n",
    "    gray_frame = cv2.cvtColor(frame, cv2.COLOR_BGR2GRAY)\n",
    "    \n",
    "    for i in range(len(old_points)):\n",
    "        x, y = old_points[i].ravel()\n",
    "        #if point_selected is True:\n",
    "        cv2.circle(frame, (int(x), int(y)), 5, (0,0,255),2)\n",
    "\n",
    "    new_points, status, error = cv2.calcOpticalFlowPyrLK(old_gray, gray_frame, \n",
    "                                                         old_points, None, **lk_params)\n",
    "    \n",
    "    \n",
    "    good_new = new_points[status==1]\n",
    "    good_prev = old_points[status==1]\n",
    "    \n",
    "    for i,(new,prev) in enumerate(zip(good_new,good_prev)):\n",
    "        x_new,y_new = new.ravel()\n",
    "        x_prev,y_prev = prev.ravel()    \n",
    "        #cv2.line(frame, (x_new,y_new),(x_prev,y_prev), (0,255,0), 1)\n",
    "        mask = cv2.line(mask, (x_new,y_new),(x_prev,y_prev), (0,255,0), 2)\n",
    "        #frame = cv2.circle(frame,(x_new,y_new),4,(0,0,255),-1)\n",
    "    \n",
    "    old_gray = gray_frame.copy()\n",
    "    #print(old_points)\n",
    "    #print(np.shape(old_points))\n",
    "    old_points = new_points\n",
    "    \n",
    "    for i in range(len(new_points)):\n",
    "        x, y = new_points[i].ravel()\n",
    "        #if point_selected is True:\n",
    "        cv2.circle(frame, (int(x), int(y)), 5, (0,255,0), -1)\n",
    "    \n",
    "    #first_level = cv2.pyrDown(frame)\n",
    "    #second_level = cv2.pyrDown(first_level)\n",
    "    img = cv2.add(frame,mask)\n",
    "    \n",
    "    cv2.imshow(\"Frame\",img)\n",
    "    #cv2.imshow(\"Frame level\", first_level)\n",
    "    #cv2.imshow(\"Second level\", second_level)\n",
    "    \n",
    "    if cv2.waitKey(30) & 0xFF == ord('q'):\n",
    "        break\n",
    "\n",
    "    count +=1\n",
    "\n",
    "cap.release()\n",
    "cv2.destroyAllWindows()\n"
   ]
  }
 ],
 "metadata": {
  "kernelspec": {
   "display_name": "Python 3 (ipykernel)",
   "language": "python",
   "name": "python3"
  },
  "language_info": {
   "codemirror_mode": {
    "name": "ipython",
    "version": 3
   },
   "file_extension": ".py",
   "mimetype": "text/x-python",
   "name": "python",
   "nbconvert_exporter": "python",
   "pygments_lexer": "ipython3",
   "version": "3.7.4"
  },
  "toc": {
   "base_numbering": 1,
   "nav_menu": {},
   "number_sections": true,
   "sideBar": true,
   "skip_h1_title": false,
   "title_cell": "Table of Contents",
   "title_sidebar": "Contents",
   "toc_cell": false,
   "toc_position": {},
   "toc_section_display": true,
   "toc_window_display": false
  },
  "varInspector": {
   "cols": {
    "lenName": 16,
    "lenType": 16,
    "lenVar": 40
   },
   "kernels_config": {
    "python": {
     "delete_cmd_postfix": "",
     "delete_cmd_prefix": "del ",
     "library": "var_list.py",
     "varRefreshCmd": "print(var_dic_list())"
    },
    "r": {
     "delete_cmd_postfix": ") ",
     "delete_cmd_prefix": "rm(",
     "library": "var_list.r",
     "varRefreshCmd": "cat(var_dic_list()) "
    }
   },
   "types_to_exclude": [
    "module",
    "function",
    "builtin_function_or_method",
    "instance",
    "_Feature"
   ],
   "window_display": false
  }
 },
 "nbformat": 4,
 "nbformat_minor": 5
}
